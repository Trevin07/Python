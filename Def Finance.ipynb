{
 "cells": [
  {
   "cell_type": "code",
   "execution_count": 2,
   "id": "b3348b8b",
   "metadata": {},
   "outputs": [],
   "source": [
    "# Convert USD to LKR\n",
    "\n",
    "def convert_USD_to_LKR(rupees): #To find the value type \"convert_USD_to_LKR()\" and type in the value inside the parenthesis\n",
    "    USD= rupees*315\n",
    "    return USD\n",
    "    "
   ]
  },
  {
   "cell_type": "code",
   "execution_count": 12,
   "id": "2dcf4ca0",
   "metadata": {},
   "outputs": [],
   "source": [
    "# Convert AUSD to LKR\n",
    "\n",
    "def convert_AUSD_to_LKR(rupees):  #To find the value type \"convert_AUSD_to_LKR()\" and type in the value that needs to be converted inside the parenthesis\n",
    "    AUSD=rupees*213.71\n",
    "    return AUSD"
   ]
  },
  {
   "cell_type": "code",
   "execution_count": 11,
   "id": "8657ad52",
   "metadata": {},
   "outputs": [],
   "source": [
    "# Find the value of your fixed deposit in 5 years at an annual rate of 15%\n",
    "\n",
    "a=#Value of interest rate\n",
    "\n",
    "\n",
    "def convert_FDY1_to_FDY5(money):            #To find the value type \" convert_FDY1_to_FDYY5()\" and type in the initial deposited value inside the parenthesis\n",
    "    Y1M=money*(a+100)/100\n",
    "    Y2M=Y1M*(a+100)/100\n",
    "    Y3M=Y2M*(a+100)/100\n",
    "    Y4M=Y3M*(a+100)/100\n",
    "    Y5M=Y4M*(a+100)/100\n",
    "    return Y5M\n",
    "\n",
    "    \n"
   ]
  },
  {
   "cell_type": "code",
   "execution_count": 12,
   "id": "2403852b",
   "metadata": {},
   "outputs": [
    {
     "data": {
      "text/plain": [
       "201135.71875"
      ]
     },
     "execution_count": 12,
     "metadata": {},
     "output_type": "execute_result"
    }
   ],
   "source": [
    " convert_FDY1_to_FDY5(100000)"
   ]
  },
  {
   "cell_type": "code",
   "execution_count": null,
   "id": "404059cf",
   "metadata": {},
   "outputs": [],
   "source": []
  },
  {
   "cell_type": "code",
   "execution_count": null,
   "id": "a0600970",
   "metadata": {},
   "outputs": [],
   "source": []
  },
  {
   "cell_type": "code",
   "execution_count": 20,
   "id": "743b54c1",
   "metadata": {},
   "outputs": [],
   "source": []
  },
  {
   "cell_type": "code",
   "execution_count": null,
   "id": "3ee560cd",
   "metadata": {},
   "outputs": [],
   "source": []
  },
  {
   "cell_type": "code",
   "execution_count": null,
   "id": "4c9630e0",
   "metadata": {},
   "outputs": [],
   "source": []
  },
  {
   "cell_type": "code",
   "execution_count": null,
   "id": "bdfb499e",
   "metadata": {},
   "outputs": [],
   "source": []
  },
  {
   "cell_type": "code",
   "execution_count": null,
   "id": "582b7f3e",
   "metadata": {},
   "outputs": [],
   "source": []
  },
  {
   "cell_type": "code",
   "execution_count": null,
   "id": "cb4ab5f4",
   "metadata": {},
   "outputs": [],
   "source": []
  },
  {
   "cell_type": "code",
   "execution_count": null,
   "id": "44abd53f",
   "metadata": {},
   "outputs": [],
   "source": []
  }
 ],
 "metadata": {
  "kernelspec": {
   "display_name": "Python 3 (ipykernel)",
   "language": "python",
   "name": "python3"
  },
  "language_info": {
   "codemirror_mode": {
    "name": "ipython",
    "version": 3
   },
   "file_extension": ".py",
   "mimetype": "text/x-python",
   "name": "python",
   "nbconvert_exporter": "python",
   "pygments_lexer": "ipython3",
   "version": "3.10.9"
  }
 },
 "nbformat": 4,
 "nbformat_minor": 5
}
