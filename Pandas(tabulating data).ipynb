{
 "cells": [
  {
   "cell_type": "code",
   "execution_count": 30,
   "id": "08f4d3d7",
   "metadata": {},
   "outputs": [
    {
     "ename": "SyntaxError",
     "evalue": "'{' was never closed (1650482254.py, line 3)",
     "output_type": "error",
     "traceback": [
      "\u001b[0;36m  Cell \u001b[0;32mIn[30], line 3\u001b[0;36m\u001b[0m\n\u001b[0;31m    record1=pd.Series({\"Name\":\"Trevin\",\u001b[0m\n\u001b[0m                      ^\u001b[0m\n\u001b[0;31mSyntaxError\u001b[0m\u001b[0;31m:\u001b[0m '{' was never closed\n"
     ]
    }
   ],
   "source": [
    "import pandas as pd\n",
    "\n",
    "record1=pd.Series({\"Name\":\"Trevin\",\n",
    "                \"Year\":'21',\n",
    "                \"School\":\"St.Josephs College\",\n",
    "                \"University:\"University of Colombo\"})\n",
    "record1\n",
    "\n",
    "import pandas as pd\n",
    "\n",
    "record1 = pd.Series({\n",
    "    \"Name\": \"Trevin\",\n",
    "    \"Age\": '21',\n",
    "    \"School\": \"St. Joseph's College\",\n",
    "    \"University\": \"University of Colombo\"\n",
    "})\n",
    "record1"
   ]
  },
  {
   "cell_type": "code",
   "execution_count": 31,
   "id": "b32a8887",
   "metadata": {},
   "outputs": [
    {
     "data": {
      "text/plain": [
       "Name                        Seniya\n",
       "Age                             23\n",
       "School        St. Joseph's College\n",
       "University                   SLIIT\n",
       "dtype: object"
      ]
     },
     "execution_count": 31,
     "metadata": {},
     "output_type": "execute_result"
    }
   ],
   "source": [
    "\n",
    "\n",
    "record2 = pd.Series({\n",
    "    \"Name\": \"Seniya\",\n",
    "    \"Age\": '23',\n",
    "    \"School\": \"St. Joseph's College\",\n",
    "    \"University\": \"SLIIT\"\n",
    "})\n",
    "\n",
    "record2"
   ]
  },
  {
   "cell_type": "code",
   "execution_count": 32,
   "id": "b4964fca",
   "metadata": {},
   "outputs": [
    {
     "data": {
      "text/plain": [
       "Name                      Kavishka\n",
       "Age                             26\n",
       "School        St. Joseph's College\n",
       "University                    NSBM\n",
       "dtype: object"
      ]
     },
     "execution_count": 32,
     "metadata": {},
     "output_type": "execute_result"
    }
   ],
   "source": [
    "\n",
    "\n",
    "record3 = pd.Series({\n",
    "    \"Name\": \"Kavishka\",\n",
    "    \"Age\": '26',\n",
    "    \"School\": \"St. Joseph's College\",\n",
    "    \"University\": \"NSBM\"\n",
    "})\n",
    "record3"
   ]
  },
  {
   "cell_type": "code",
   "execution_count": 33,
   "id": "3d0297f7",
   "metadata": {},
   "outputs": [
    {
     "data": {
      "text/html": [
       "<div>\n",
       "<style scoped>\n",
       "    .dataframe tbody tr th:only-of-type {\n",
       "        vertical-align: middle;\n",
       "    }\n",
       "\n",
       "    .dataframe tbody tr th {\n",
       "        vertical-align: top;\n",
       "    }\n",
       "\n",
       "    .dataframe thead th {\n",
       "        text-align: right;\n",
       "    }\n",
       "</style>\n",
       "<table border=\"1\" class=\"dataframe\">\n",
       "  <thead>\n",
       "    <tr style=\"text-align: right;\">\n",
       "      <th></th>\n",
       "      <th>Name</th>\n",
       "      <th>Age</th>\n",
       "      <th>School</th>\n",
       "      <th>University</th>\n",
       "    </tr>\n",
       "  </thead>\n",
       "  <tbody>\n",
       "    <tr>\n",
       "      <th>Youngest</th>\n",
       "      <td>Trevin</td>\n",
       "      <td>21</td>\n",
       "      <td>St. Joseph's College</td>\n",
       "      <td>University of Colombo</td>\n",
       "    </tr>\n",
       "    <tr>\n",
       "      <th>Middle</th>\n",
       "      <td>Seniya</td>\n",
       "      <td>23</td>\n",
       "      <td>St. Joseph's College</td>\n",
       "      <td>SLIIT</td>\n",
       "    </tr>\n",
       "    <tr>\n",
       "      <th>Eldest</th>\n",
       "      <td>Kavishka</td>\n",
       "      <td>26</td>\n",
       "      <td>St. Joseph's College</td>\n",
       "      <td>NSBM</td>\n",
       "    </tr>\n",
       "  </tbody>\n",
       "</table>\n",
       "</div>"
      ],
      "text/plain": [
       "              Name Age                School             University\n",
       "Youngest    Trevin  21  St. Joseph's College  University of Colombo\n",
       "Middle      Seniya  23  St. Joseph's College                  SLIIT\n",
       "Eldest    Kavishka  26  St. Joseph's College                   NSBM"
      ]
     },
     "execution_count": 33,
     "metadata": {},
     "output_type": "execute_result"
    }
   ],
   "source": [
    "df=pd.DataFrame([record1,record2,record3],index=['Youngest','Middle','Eldest'])\n",
    "df"
   ]
  },
  {
   "cell_type": "code",
   "execution_count": 34,
   "id": "0cfe8e6f",
   "metadata": {},
   "outputs": [
    {
     "data": {
      "text/html": [
       "<div>\n",
       "<style scoped>\n",
       "    .dataframe tbody tr th:only-of-type {\n",
       "        vertical-align: middle;\n",
       "    }\n",
       "\n",
       "    .dataframe tbody tr th {\n",
       "        vertical-align: top;\n",
       "    }\n",
       "\n",
       "    .dataframe thead th {\n",
       "        text-align: right;\n",
       "    }\n",
       "</style>\n",
       "<table border=\"1\" class=\"dataframe\">\n",
       "  <thead>\n",
       "    <tr style=\"text-align: right;\">\n",
       "      <th></th>\n",
       "      <th>Name</th>\n",
       "      <th>Age</th>\n",
       "      <th>School</th>\n",
       "      <th>University</th>\n",
       "    </tr>\n",
       "  </thead>\n",
       "  <tbody>\n",
       "    <tr>\n",
       "      <th>Youngest</th>\n",
       "      <td>Trevin</td>\n",
       "      <td>21</td>\n",
       "      <td>St. Joseph's College</td>\n",
       "      <td>University of Colombo</td>\n",
       "    </tr>\n",
       "  </tbody>\n",
       "</table>\n",
       "</div>"
      ],
      "text/plain": [
       "            Name Age                School             University\n",
       "Youngest  Trevin  21  St. Joseph's College  University of Colombo"
      ]
     },
     "execution_count": 34,
     "metadata": {},
     "output_type": "execute_result"
    }
   ],
   "source": [
    "df.head(1)"
   ]
  },
  {
   "cell_type": "code",
   "execution_count": 36,
   "id": "c99f7698",
   "metadata": {},
   "outputs": [
    {
     "data": {
      "text/html": [
       "<div>\n",
       "<style scoped>\n",
       "    .dataframe tbody tr th:only-of-type {\n",
       "        vertical-align: middle;\n",
       "    }\n",
       "\n",
       "    .dataframe tbody tr th {\n",
       "        vertical-align: top;\n",
       "    }\n",
       "\n",
       "    .dataframe thead th {\n",
       "        text-align: right;\n",
       "    }\n",
       "</style>\n",
       "<table border=\"1\" class=\"dataframe\">\n",
       "  <thead>\n",
       "    <tr style=\"text-align: right;\">\n",
       "      <th></th>\n",
       "      <th>Name</th>\n",
       "      <th>Age</th>\n",
       "      <th>School</th>\n",
       "      <th>University</th>\n",
       "    </tr>\n",
       "  </thead>\n",
       "  <tbody>\n",
       "    <tr>\n",
       "      <th>Youngest</th>\n",
       "      <td>Trevin</td>\n",
       "      <td>21</td>\n",
       "      <td>St. Joseph's College</td>\n",
       "      <td>University of Colombo</td>\n",
       "    </tr>\n",
       "    <tr>\n",
       "      <th>Middle</th>\n",
       "      <td>Seniya</td>\n",
       "      <td>23</td>\n",
       "      <td>St. Joseph's College</td>\n",
       "      <td>SLIIT</td>\n",
       "    </tr>\n",
       "  </tbody>\n",
       "</table>\n",
       "</div>"
      ],
      "text/plain": [
       "            Name Age                School             University\n",
       "Youngest  Trevin  21  St. Joseph's College  University of Colombo\n",
       "Middle    Seniya  23  St. Joseph's College                  SLIIT"
      ]
     },
     "execution_count": 36,
     "metadata": {},
     "output_type": "execute_result"
    }
   ],
   "source": [
    "df.head(2)"
   ]
  },
  {
   "cell_type": "code",
   "execution_count": null,
   "id": "46922272",
   "metadata": {},
   "outputs": [],
   "source": []
  }
 ],
 "metadata": {
  "kernelspec": {
   "display_name": "Python 3 (ipykernel)",
   "language": "python",
   "name": "python3"
  },
  "language_info": {
   "codemirror_mode": {
    "name": "ipython",
    "version": 3
   },
   "file_extension": ".py",
   "mimetype": "text/x-python",
   "name": "python",
   "nbconvert_exporter": "python",
   "pygments_lexer": "ipython3",
   "version": "3.10.9"
  }
 },
 "nbformat": 4,
 "nbformat_minor": 5
}
