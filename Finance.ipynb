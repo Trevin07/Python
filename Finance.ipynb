{
 "cells": [
  {
   "cell_type": "code",
   "execution_count": null,
   "id": "6e74a6d8",
   "metadata": {},
   "outputs": [],
   "source": [
    "# Profit or loss analysis\n",
    "\n",
    "\n",
    "Cashflow = Sales value to be mentioned\n",
    "\n",
    "if Cashflow>1000000:\n",
    "    print(\"This year the company has made a profit.\"\n",
    "        \"Profit or loss statement must be presented to the shareholders.\")\n",
    "\n",
    "if Cashflow==1000000:\n",
    "    print(\"This year the company broke even.\"\n",
    "         \"There is no compulsory need to present the statement of profit or loss to the shareholders.\")\n",
    "    \n",
    "\n",
    "if Cashflow<1000000:\n",
    "    print(\"This year the company has incurred a loss.\"\n",
    "         \"The profit or loss statement must be reviewed by the internal auditors and reconciliated if there are any errors and later must be presented to the shareholders.\")\n",
    "\n",
    "    \n"
   ]
  },
  {
   "cell_type": "code",
   "execution_count": null,
   "id": "a8bf76a0",
   "metadata": {},
   "outputs": [],
   "source": [
    "# Finding the break even volume\n",
    "\n",
    "x=enter value            #where x =Fixed costs\n",
    "y=enter value            #where y =Sales Price \n",
    "v=enter value            #where v=Variable Cost Per Unit       \n",
    "                         #where z = Break even volume in units\n",
    "\n",
    "    \n",
    "z =(x/(y-v)) \n",
    "\n",
    "\n",
    "\n",
    "print(z)  \n"
   ]
  },
  {
   "cell_type": "code",
   "execution_count": null,
   "id": "983d1987",
   "metadata": {},
   "outputs": [],
   "source": [
    "# ROI(Return on investment)\n",
    "\n",
    "a=15000           #where a =Investment Gain – Cost of Investment\n",
    "b= 120000         #where b =Cost of Investment  \n",
    "                         #where E=ROI\n",
    "\n",
    " \n",
    "\n",
    " \n",
    "E=(a/b)*100\n",
    "print(E)\n",
    "\n",
    "\n",
    "\n",
    "\n"
   ]
  },
  {
   "cell_type": "code",
   "execution_count": null,
   "id": "a43d2ccc",
   "metadata": {},
   "outputs": [],
   "source": [
    "func(4,3)"
   ]
  },
  {
   "cell_type": "code",
   "execution_count": null,
   "id": "c7f4ae13",
   "metadata": {},
   "outputs": [],
   "source": [
    "calc(2,3)"
   ]
  },
  {
   "cell_type": "code",
   "execution_count": null,
   "id": "8cf0bb08",
   "metadata": {},
   "outputs": [],
   "source": [
    "my_function(2,3)"
   ]
  },
  {
   "cell_type": "code",
   "execution_count": null,
   "id": "2af5166f",
   "metadata": {},
   "outputs": [],
   "source": [
    "my_function(2,3)"
   ]
  },
  {
   "cell_type": "code",
   "execution_count": null,
   "id": "7807fd30",
   "metadata": {},
   "outputs": [],
   "source": []
  },
  {
   "cell_type": "code",
   "execution_count": null,
   "id": "53051d51",
   "metadata": {},
   "outputs": [],
   "source": []
  },
  {
   "cell_type": "code",
   "execution_count": null,
   "id": "71807ee3",
   "metadata": {},
   "outputs": [],
   "source": []
  },
  {
   "cell_type": "code",
   "execution_count": null,
   "id": "1b0ad1c3",
   "metadata": {},
   "outputs": [],
   "source": []
  },
  {
   "cell_type": "code",
   "execution_count": null,
   "id": "db7b0112",
   "metadata": {},
   "outputs": [],
   "source": []
  },
  {
   "cell_type": "code",
   "execution_count": null,
   "id": "bdaf8f37",
   "metadata": {},
   "outputs": [],
   "source": [
    "my_function(2,3)"
   ]
  },
  {
   "cell_type": "code",
   "execution_count": null,
   "id": "4777a682",
   "metadata": {},
   "outputs": [],
   "source": []
  }
 ],
 "metadata": {
  "kernelspec": {
   "display_name": "Python 3 (ipykernel)",
   "language": "python",
   "name": "python3"
  },
  "language_info": {
   "codemirror_mode": {
    "name": "ipython",
    "version": 3
   },
   "file_extension": ".py",
   "mimetype": "text/x-python",
   "name": "python",
   "nbconvert_exporter": "python",
   "pygments_lexer": "ipython3",
   "version": "3.10.9"
  }
 },
 "nbformat": 4,
 "nbformat_minor": 5
}
